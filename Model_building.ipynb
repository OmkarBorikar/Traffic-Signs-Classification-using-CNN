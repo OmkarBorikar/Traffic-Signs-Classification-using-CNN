{
 "cells": [
  {
   "cell_type": "code",
   "execution_count": 36,
   "id": "5e27db80",
   "metadata": {},
   "outputs": [],
   "source": [
    "import numpy as np\n",
    "import pandas as pd\n",
    "import matplotlib.pyplot as plt\n",
    "import cv2\n",
    "import tensorflow as tf\n",
    "from PIL import Image\n",
    "from sklearn.model_selection import train_test_split\n",
    "from tensorflow.keras.utils import to_categorical\n",
    "from keras.models import Sequential, load_model\n",
    "from keras.layers import Conv2D, MaxPool2D, Dense, Flatten, Dropout\n",
    "import os\n",
    "os.chdir('/home/omkar/CNN proj/archive')"
   ]
  },
  {
   "cell_type": "code",
   "execution_count": 8,
   "id": "fad252d0",
   "metadata": {},
   "outputs": [
    {
     "name": "stdout",
     "output_type": "stream",
     "text": [
      "Defaulting to user installation because normal site-packages is not writeable\n",
      "Requirement already satisfied: opencv-python in /home/omkar/.local/lib/python3.8/site-packages (4.5.4.58)\n",
      "Requirement already satisfied: numpy>=1.17.3 in /home/omkar/.local/lib/python3.8/site-packages (from opencv-python) (1.19.5)\n"
     ]
    }
   ],
   "source": [
    "# import sys\n",
    "\n",
    "# sys.path.append('/usr/local/lib/python2.7/site-packages')\n",
    "\n",
    "# !pip install opencv-python"
   ]
  },
  {
   "cell_type": "code",
   "execution_count": 39,
   "id": "e9d977a4",
   "metadata": {},
   "outputs": [],
   "source": [
    "data =[]\n",
    "labels = []\n",
    "classes =43 \n",
    "cur_path = os.getcwd()\n",
    "for i in range(classes):     \n",
    "    path = os.path.join(cur_path,'train',str(i))     \n",
    "    images = os.listdir(path)\n",
    "    for a in images:\n",
    "        try:\n",
    "            image = Image.open(path +'/'+ a)             \n",
    "            image = image.resize((30,30)) \n",
    "            # Resizing all images into 30*30                                                 \n",
    "            image =np.array(image)             \n",
    "            data.append(image)             \n",
    "            labels.append(i)\n",
    "        except Exception as e:\n",
    "            print(e)"
   ]
  },
  {
   "cell_type": "code",
   "execution_count": 40,
   "id": "ea28e176",
   "metadata": {},
   "outputs": [
    {
     "name": "stdout",
     "output_type": "stream",
     "text": [
      "(39209, 30, 30, 3) (39209,)\n"
     ]
    }
   ],
   "source": [
    "data = np.array(data) \n",
    "labels = np.array(labels)\n",
    "print(data.shape, labels.shape) \n",
    "# (78418,30,30,3)(78418,)\n"
   ]
  },
  {
   "cell_type": "code",
   "execution_count": 41,
   "id": "d13db2be",
   "metadata": {},
   "outputs": [
    {
     "name": "stdout",
     "output_type": "stream",
     "text": [
      "(31367, 30, 30, 3) (7842, 30, 30, 3) (31367,) (7842,)\n"
     ]
    }
   ],
   "source": [
    "X_train, X_test, y_train, y_test =train_test_split(data, labels, test_size=0.2, random_state=0)\n",
    "print(X_train.shape, X_test.shape, y_train.shape, y_test.shape) "
   ]
  },
  {
   "cell_type": "code",
   "execution_count": 42,
   "id": "bcbcf652",
   "metadata": {},
   "outputs": [],
   "source": [
    "y_train = to_categorical(y_train,43) \n",
    "y_test = to_categorical(y_test,43)"
   ]
  },
  {
   "cell_type": "code",
   "execution_count": 52,
   "id": "60422a5b",
   "metadata": {},
   "outputs": [
    {
     "data": {
      "text/plain": [
       "((31367, 43), (7842, 43))"
      ]
     },
     "execution_count": 52,
     "metadata": {},
     "output_type": "execute_result"
    }
   ],
   "source": [
    "y_train.shape,y_test.shape"
   ]
  },
  {
   "cell_type": "code",
   "execution_count": 53,
   "id": "9769e2c7",
   "metadata": {},
   "outputs": [],
   "source": [
    "model =Sequential() \n",
    "model.add(Conv2D(filters=32, kernel_size=(5,5), activation='relu', input_shape=X_train.shape[1:])) \n",
    "model.add(Conv2D(filters=32, kernel_size=(5,5), activation='relu')) \n",
    "model.add(MaxPool2D(pool_size=(2,2))) \n",
    "model.add(Dropout(rate=0.25)) \n",
    "model.add(Conv2D(filters=64, kernel_size=(3,3), activation='relu')) \n",
    "model.add(Conv2D(filters=64, kernel_size=(3,3), activation='relu')) \n",
    "model.add(MaxPool2D(pool_size=(2,2)))\n",
    "model.add(Dropout(rate=0.25)) \n",
    "model.add(Flatten()) \n",
    "model.add(Dense(256, activation='relu')) \n",
    "model.add(Dropout(rate=0.5))\n",
    "# We have 43 classes that's why we have defined 43in the dense \n",
    "model.add(Dense(43, activation='softmax'))"
   ]
  },
  {
   "cell_type": "code",
   "execution_count": 54,
   "id": "2dc6d04b",
   "metadata": {},
   "outputs": [
    {
     "name": "stderr",
     "output_type": "stream",
     "text": [
      "2021-11-14 20:05:25.461542: W tensorflow/core/framework/cpu_allocator_impl.cc:80] Allocation of 84690900 exceeds 10% of free system memory.\n"
     ]
    },
    {
     "name": "stdout",
     "output_type": "stream",
     "text": [
      "Epoch 1/20\n",
      "  3/981 [..............................] - ETA: 47s - loss: 23.9578 - accuracy: 0.0417  "
     ]
    },
    {
     "name": "stderr",
     "output_type": "stream",
     "text": [
      "2021-11-14 20:05:27.463957: W tensorflow/core/framework/cpu_allocator_impl.cc:80] Allocation of 29427200 exceeds 10% of free system memory.\n",
      "2021-11-14 20:05:27.464061: W tensorflow/core/framework/cpu_allocator_impl.cc:80] Allocation of 29427200 exceeds 10% of free system memory.\n"
     ]
    },
    {
     "name": "stdout",
     "output_type": "stream",
     "text": [
      "981/981 [==============================] - 48s 48ms/step - loss: 2.4532 - accuracy: 0.3510 - val_loss: 0.8259 - val_accuracy: 0.7879\n",
      "Epoch 2/20\n",
      "981/981 [==============================] - 54s 55ms/step - loss: 1.0169 - accuracy: 0.6954 - val_loss: 0.3879 - val_accuracy: 0.8841\n",
      "Epoch 3/20\n",
      "981/981 [==============================] - 57s 58ms/step - loss: 0.7723 - accuracy: 0.7659 - val_loss: 0.3083 - val_accuracy: 0.9160\n",
      "Epoch 4/20\n",
      "981/981 [==============================] - 59s 61ms/step - loss: 0.6317 - accuracy: 0.8054 - val_loss: 0.2281 - val_accuracy: 0.9384\n",
      "Epoch 5/20\n",
      "981/981 [==============================] - 59s 61ms/step - loss: 0.5008 - accuracy: 0.8458 - val_loss: 0.1883 - val_accuracy: 0.9449\n",
      "Epoch 6/20\n",
      "981/981 [==============================] - 61s 62ms/step - loss: 0.4337 - accuracy: 0.8666 - val_loss: 0.1678 - val_accuracy: 0.9565\n",
      "Epoch 7/20\n",
      "981/981 [==============================] - 61s 62ms/step - loss: 0.3944 - accuracy: 0.8798 - val_loss: 0.1314 - val_accuracy: 0.9657\n",
      "Epoch 8/20\n",
      "981/981 [==============================] - 60s 61ms/step - loss: 0.3699 - accuracy: 0.8867 - val_loss: 0.1112 - val_accuracy: 0.9690\n",
      "Epoch 9/20\n",
      "981/981 [==============================] - 61s 63ms/step - loss: 0.3699 - accuracy: 0.8866 - val_loss: 0.1779 - val_accuracy: 0.9554\n",
      "Epoch 10/20\n",
      "981/981 [==============================] - 61s 62ms/step - loss: 0.3412 - accuracy: 0.8965 - val_loss: 0.1254 - val_accuracy: 0.9653\n",
      "Epoch 11/20\n",
      "981/981 [==============================] - 62s 63ms/step - loss: 0.3343 - accuracy: 0.9000 - val_loss: 0.1064 - val_accuracy: 0.9680\n",
      "Epoch 12/20\n",
      "981/981 [==============================] - 62s 63ms/step - loss: 0.3261 - accuracy: 0.9006 - val_loss: 0.1195 - val_accuracy: 0.9637\n",
      "Epoch 13/20\n",
      "981/981 [==============================] - 61s 62ms/step - loss: 0.3192 - accuracy: 0.9023 - val_loss: 0.1003 - val_accuracy: 0.9684\n",
      "Epoch 14/20\n",
      "981/981 [==============================] - 62s 63ms/step - loss: 0.2975 - accuracy: 0.9095 - val_loss: 0.0801 - val_accuracy: 0.9759\n",
      "Epoch 15/20\n",
      "981/981 [==============================] - 62s 63ms/step - loss: 0.3102 - accuracy: 0.9083 - val_loss: 0.1276 - val_accuracy: 0.9639\n",
      "Epoch 16/20\n",
      "981/981 [==============================] - 64s 65ms/step - loss: 0.2867 - accuracy: 0.9142 - val_loss: 0.0836 - val_accuracy: 0.9754\n",
      "Epoch 17/20\n",
      "981/981 [==============================] - 62s 64ms/step - loss: 0.2891 - accuracy: 0.9121 - val_loss: 0.0882 - val_accuracy: 0.9748\n",
      "Epoch 18/20\n",
      "981/981 [==============================] - 65s 66ms/step - loss: 0.2804 - accuracy: 0.9151 - val_loss: 0.0834 - val_accuracy: 0.9758\n",
      "Epoch 19/20\n",
      "981/981 [==============================] - 60s 62ms/step - loss: 0.2889 - accuracy: 0.9128 - val_loss: 0.0750 - val_accuracy: 0.9792\n",
      "Epoch 20/20\n",
      "981/981 [==============================] - 61s 62ms/step - loss: 0.2850 - accuracy: 0.9165 - val_loss: 0.0756 - val_accuracy: 0.9760\n"
     ]
    }
   ],
   "source": [
    "#Compilation of the model \n",
    "model.compile(loss='categorical_crossentropy', optimizer='adam', metrics=['accuracy']) \n",
    "epochs = 20 \n",
    "history = model.fit(X_train, y_train, batch_size=32, epochs=epochs, validation_data=(X_test, y_test))"
   ]
  },
  {
   "cell_type": "code",
   "execution_count": 57,
   "id": "a78ea8df",
   "metadata": {},
   "outputs": [],
   "source": [
    "# import pickle\n",
    "# pickle.dump(model,open('CNN_Model.pkl','wb'))\n",
    "model.save(\"./training/TSR.h5\")\n"
   ]
  },
  {
   "cell_type": "code",
   "execution_count": 70,
   "id": "f3f982ea",
   "metadata": {},
   "outputs": [],
   "source": [
    "classes = { 0:'Speed limit (20km/h)',\n",
    "            1:'Speed limit (30km/h)',\n",
    "            2:'Speed limit (50km/h)',\n",
    "            3:'Speed limit (60km/h)',\n",
    "            4:'Speed limit (70km/h)',\n",
    "            5:'Speed limit (80km/h)',\n",
    "            6:'End of speed limit (80km/h)',\n",
    "            7:'Speed limit (100km/h)',\n",
    "            8:'Speed limit (120km/h)',\n",
    "            9:'No passing',\n",
    "            10:'No passing veh over 3.5 tons',\n",
    "            11:'Right-of-way at intersection',\n",
    "            12:'Priority road',\n",
    "            13:'Yield',\n",
    "            14:'Stop',\n",
    "            15:'No vehicles',\n",
    "            16:'Vehicle > 3.5 tons prohibited',\n",
    "            17:'No entry',\n",
    "            18:'General caution',\n",
    "            19:'Dangerous curve left',\n",
    "            20:'Dangerous curve right',\n",
    "            21:'Double curve',\n",
    "            22:'Bumpy road',\n",
    "            23:'Slippery road',\n",
    "            24:'Road narrows on the right',\n",
    "            25:'Road work',\n",
    "            26:'Traffic signals',\n",
    "            27:'Pedestrians',\n",
    "            28:'Children crossing',\n",
    "            29:'Bicycles crossing',\n",
    "            30:'Beware of ice/snow',\n",
    "            31:'Wild animals crossing',\n",
    "            32:'End speed + passing limits',\n",
    "            33:'Turn right ahead',\n",
    "            34:'Turn left ahead',\n",
    "            35:'Ahead only',\n",
    "            36:'Go straight or right',\n",
    "            37:'Go straight or left',\n",
    "            38:'Keep right',\n",
    "            39:'Keep left',\n",
    "            40:'Roundabout mandatory',\n",
    "            41:'End of no passing',\n",
    "            42:'End no passing vehicle > 3.5 tons' }\n"
   ]
  },
  {
   "cell_type": "code",
   "execution_count": 89,
   "id": "c0352b00",
   "metadata": {},
   "outputs": [],
   "source": [
    "def image_processing(img):\n",
    "    model = load_model('./training/TSR.h5')\n",
    "    data=[]\n",
    "    image = Image.open(img)\n",
    "    image = image.resize((30,30))\n",
    "    data.append(np.array(image))\n",
    "    X_test=np.array(data)\n",
    "    Y_pred = model.predict(X_test)\n",
    "    return image,Y_pred\n"
   ]
  },
  {
   "cell_type": "code",
   "execution_count": 109,
   "id": "0c93d11d",
   "metadata": {},
   "outputs": [],
   "source": [
    "plot,res = image_processing(r'/home/omkar/CNN proj/archive/test/00032.png')"
   ]
  },
  {
   "cell_type": "code",
   "execution_count": 110,
   "id": "58492ebd",
   "metadata": {},
   "outputs": [
    {
     "data": {
      "text/plain": [
       "<matplotlib.image.AxesImage at 0x7fa79076d340>"
      ]
     },
     "execution_count": 110,
     "metadata": {},
     "output_type": "execute_result"
    },
    {
     "data": {
      "image/png": "[encoded data removed]",
      "text/plain": [
       "<Figure size 432x288 with 1 Axes>"
      ]
     },
     "metadata": {
      "needs_background": "light"
     },
     "output_type": "display_data"
    }
   ],
   "source": [
    "plt.imshow(plot)"
   ]
  },
  {
   "cell_type": "code",
   "execution_count": 111,
   "id": "97dfe87e",
   "metadata": {},
   "outputs": [],
   "source": [
    "final_res = np.argmax(res,axis=1)"
   ]
  },
  {
   "cell_type": "code",
   "execution_count": 112,
   "id": "6f04cd98",
   "metadata": {},
   "outputs": [
    {
     "data": {
      "text/plain": [
       "'Turn left ahead'"
      ]
     },
     "execution_count": 112,
     "metadata": {},
     "output_type": "execute_result"
    }
   ],
   "source": [
    "classes[final_res[0]]"
   ]
  },
  {
   "cell_type": "code",
   "execution_count": 81,
   "id": "cb0d7f83",
   "metadata": {},
   "outputs": [
    {
     "name": "stdout",
     "output_type": "stream",
     "text": [
      "['[5.8061012e-10 9.9999940e-01 1.5627910e-08 7.1879343e-15 6.4692132e-09\\n 5.6214242e-07 3.2510564e-10 2.6183255e-08 5.3740378e-14 1.9479038e-25\\n 4.8522696e-18 3.9453508e-17 2.1295194e-16 2.9913405e-15 1.2946817e-17\\n 2.3912880e-17 8.1717972e-29 2.2008886e-27 8.4950510e-15 3.1392585e-27\\n 2.2032330e-19 3.0322888e-14 7.7332512e-27 1.3061095e-19 1.1487020e-16\\n 2.2631550e-16 2.4513026e-18 1.2943097e-12 1.3725400e-19 4.7031963e-18\\n 5.6870431e-20 8.7556439e-18 2.8509256e-25 9.1207840e-22 1.9261248e-21\\n 8.1543917e-21 1.0269521e-23 1.3279639e-19 2.2942454e-18 3.4412830e-20\\n 4.0633528e-13 1.3045108e-27 7.3672479e-20]']\n"
     ]
    }
   ],
   "source": [
    "s = [str(i) for i in res]\n",
    "a = int(\"\".join(s))\n",
    "print(a)"
   ]
  },
  {
   "cell_type": "code",
   "execution_count": null,
   "id": "2829f506",
   "metadata": {},
   "outputs": [],
   "source": [
    "# train_datagen = ImageDataGenerator(rescale = 1./255,\n",
    "#                                    shear_range = 0.2,\n",
    "#                                    zoom_range = 0.2,\n",
    "#                                    horizontal_flip = True)\n",
    "# training_set = train_datagen.flow_from_directory('/home/omkar/CNN proj',\n",
    "#                                                  target_size = (64, 64),\n",
    "#                                                  batch_size = 32,\n",
    "#                                                  class_mode = 'binary')"
   ]
  }
 ],
 "metadata": {
  "kernelspec": {
   "display_name": "Python 3 (ipykernel)",
   "language": "python",
   "name": "python3"
  },
  "language_info": {
   "codemirror_mode": {
    "name": "ipython",
    "version": 3
   },
   "file_extension": ".py",
   "mimetype": "text/x-python",
   "name": "python",
   "nbconvert_exporter": "python",
   "pygments_lexer": "ipython3",
   "version": "3.8.10"
  }
 },
 "nbformat": 4,
 "nbformat_minor": 5
}
