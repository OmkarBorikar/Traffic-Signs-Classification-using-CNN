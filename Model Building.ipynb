{
 "cells": [
  {
   "cell_type": "code",
   "execution_count": 1,
   "id": "8ff7ae86",
   "metadata": {},
   "outputs": [
    {
     "name": "stderr",
     "output_type": "stream",
     "text": [
      "2021-11-26 16:24:07.110904: W tensorflow/stream_executor/platform/default/dso_loader.cc:64] Could not load dynamic library 'libcudart.so.11.0'; dlerror: libcudart.so.11.0: cannot open shared object file: No such file or directory; LD_LIBRARY_PATH: /home/omkar/.local/lib/python3.8/site-packages/cv2/../../lib64:\n",
      "2021-11-26 16:24:07.110991: I tensorflow/stream_executor/cuda/cudart_stub.cc:29] Ignore above cudart dlerror if you do not have a GPU set up on your machine.\n"
     ]
    }
   ],
   "source": [
    "import warnings\n",
    "warnings.filterwarnings(\"ignore\")\n",
    "import numpy as np\n",
    "import pandas as pd\n",
    "import matplotlib.pyplot as plt\n",
    "import cv2\n",
    "import tensorflow as tf\n",
    "from PIL import Image,ImageOps\n",
    "from sklearn.model_selection import train_test_split\n",
    "from tensorflow.keras.utils import to_categorical\n",
    "from keras.models import Sequential, load_model\n",
    "from keras.layers import Conv2D, MaxPool2D, Dense, Flatten, Dropout\n",
    "import os\n",
    "os.chdir('/home/omkar/CNN proj/archive')\n",
    "\n",
    "\n"
   ]
  },
  {
   "cell_type": "code",
   "execution_count": 2,
   "id": "8a6d7464",
   "metadata": {},
   "outputs": [],
   "source": [
    "training_data=[]\n",
    "classes=43\n",
    "cur_path = os.getcwd()\n",
    "for i in range(classes):     \n",
    "    path = os.path.join(cur_path,'train',str(i))     \n",
    "    images = os.listdir(path)\n",
    "    for a in images:\n",
    "        try:\n",
    "            \n",
    "            img_array = cv2.imread(path +'/'+ a,cv2.IMREAD_GRAYSCALE)  # convert to array\n",
    "            new_array = cv2.resize(img_array, (30, 30))\n",
    "            training_data.append([new_array,i])\n",
    "        \n",
    "        except Exception as e:\n",
    "            print(e)"
   ]
  },
  {
   "cell_type": "code",
   "execution_count": 3,
   "id": "2633f35a",
   "metadata": {},
   "outputs": [
    {
     "name": "stdout",
     "output_type": "stream",
     "text": [
      "39209\n"
     ]
    }
   ],
   "source": [
    "print(len(training_data))"
   ]
  },
  {
   "cell_type": "code",
   "execution_count": 15,
   "id": "22b82069",
   "metadata": {},
   "outputs": [],
   "source": [
    "X = []\n",
    "y = []\n",
    "\n",
    "for features,label in training_data:\n",
    "    X.append(features)\n",
    "    y.append(label)\n",
    "\n",
    "\n",
    "X = np.array(X).reshape(-1, 30, 30, 1)\n",
    "y = np.array(y)"
   ]
  },
  {
   "cell_type": "code",
   "execution_count": 5,
   "id": "bba2033e",
   "metadata": {},
   "outputs": [
    {
     "name": "stdout",
     "output_type": "stream",
     "text": [
      "(31367, 30, 30, 1) (7842, 30, 30, 1) (31367,) (7842,)\n"
     ]
    }
   ],
   "source": [
    "X_train, X_test, y_train, y_test =train_test_split(X, y, test_size=0.2, random_state=0, shuffle=True)\n",
    "print(X_train.shape, X_test.shape, y_train.shape, y_test.shape) "
   ]
  },
  {
   "cell_type": "code",
   "execution_count": 6,
   "id": "4199c813",
   "metadata": {},
   "outputs": [],
   "source": [
    "y_train = to_categorical(y_train,43) \n",
    "y_test = to_categorical(y_test,43)"
   ]
  },
  {
   "cell_type": "code",
   "execution_count": 7,
   "id": "5c81cd1a",
   "metadata": {},
   "outputs": [
    {
     "data": {
      "text/plain": [
       "((31367, 43), (7842, 43))"
      ]
     },
     "execution_count": 7,
     "metadata": {},
     "output_type": "execute_result"
    }
   ],
   "source": [
    "y_train.shape,y_test.shape"
   ]
  },
  {
   "cell_type": "code",
   "execution_count": 8,
   "id": "6cda2b80",
   "metadata": {},
   "outputs": [],
   "source": [
    "X = X/255.0"
   ]
  },
  {
   "cell_type": "code",
   "execution_count": 9,
   "id": "8390d2c7",
   "metadata": {},
   "outputs": [
    {
     "name": "stderr",
     "output_type": "stream",
     "text": [
      "2021-11-26 16:25:22.327533: E tensorflow/stream_executor/cuda/cuda_driver.cc:271] failed call to cuInit: CUDA_ERROR_NO_DEVICE: no CUDA-capable device is detected\n",
      "2021-11-26 16:25:22.327582: I tensorflow/stream_executor/cuda/cuda_diagnostics.cc:156] kernel driver does not appear to be running on this host (omkar-Lenovo-ideapad-520-15IKB): /proc/driver/nvidia/version does not exist\n",
      "2021-11-26 16:25:22.328059: I tensorflow/core/platform/cpu_feature_guard.cc:142] This TensorFlow binary is optimized with oneAPI Deep Neural Network Library (oneDNN) to use the following CPU instructions in performance-critical operations:  AVX2 FMA\n",
      "To enable them in other operations, rebuild TensorFlow with the appropriate compiler flags.\n"
     ]
    }
   ],
   "source": [
    "model =Sequential() \n",
    "model.add(Conv2D(filters=32, kernel_size=(5,5), activation='relu', input_shape=X_train.shape[1:])) \n",
    "model.add(Conv2D(filters=32, kernel_size=(5,5), activation='relu')) \n",
    "model.add(MaxPool2D(pool_size=(2,2))) \n",
    "model.add(Dropout(rate=0.25)) \n",
    "\n",
    "model.add(Conv2D(filters=64, kernel_size=(3,3), activation='relu')) \n",
    "model.add(Conv2D(filters=64, kernel_size=(3,3), activation='relu')) \n",
    "model.add(MaxPool2D(pool_size=(2,2)))\n",
    "model.add(Dropout(rate=0.25)) \n",
    "\n",
    "model.add(Flatten()) \n",
    "\n",
    "model.add(Dense(256, activation='relu')) \n",
    "model.add(Dropout(rate=0.5))\n",
    "\n",
    "# We have 43 classes that's why we have defined 43in the dense \n",
    "model.add(Dense(43, activation='softmax'))"
   ]
  },
  {
   "cell_type": "code",
   "execution_count": 10,
   "id": "43db9108",
   "metadata": {},
   "outputs": [
    {
     "name": "stderr",
     "output_type": "stream",
     "text": [
      "2021-11-26 16:25:22.656911: I tensorflow/compiler/mlir/mlir_graph_optimization_pass.cc:185] None of the MLIR Optimization Passes are enabled (registered 2)\n"
     ]
    },
    {
     "name": "stdout",
     "output_type": "stream",
     "text": [
      "Epoch 1/20\n",
      "981/981 [==============================] - 51s 51ms/step - loss: 1.8774 - accuracy: 0.5136 - val_loss: 0.4922 - val_accuracy: 0.8710\n",
      "Epoch 2/20\n",
      "981/981 [==============================] - 61s 62ms/step - loss: 0.6369 - accuracy: 0.8066 - val_loss: 0.1766 - val_accuracy: 0.9531\n",
      "Epoch 3/20\n",
      "981/981 [==============================] - 71s 73ms/step - loss: 0.3572 - accuracy: 0.8972 - val_loss: 0.0974 - val_accuracy: 0.9736\n",
      "Epoch 4/20\n",
      "981/981 [==============================] - 73s 74ms/step - loss: 0.2506 - accuracy: 0.9276 - val_loss: 0.0743 - val_accuracy: 0.9809\n",
      "Epoch 5/20\n",
      "981/981 [==============================] - 75s 76ms/step - loss: 0.2222 - accuracy: 0.9355 - val_loss: 0.0628 - val_accuracy: 0.9844\n",
      "Epoch 6/20\n",
      "981/981 [==============================] - 66s 67ms/step - loss: 0.1858 - accuracy: 0.9463 - val_loss: 0.0794 - val_accuracy: 0.9810\n",
      "Epoch 7/20\n",
      "981/981 [==============================] - 78s 80ms/step - loss: 0.1887 - accuracy: 0.9461 - val_loss: 0.0557 - val_accuracy: 0.9850\n",
      "Epoch 8/20\n",
      "981/981 [==============================] - 82s 83ms/step - loss: 0.1814 - accuracy: 0.9475 - val_loss: 0.0786 - val_accuracy: 0.9786\n",
      "Epoch 9/20\n",
      "981/981 [==============================] - 74s 75ms/step - loss: 0.1642 - accuracy: 0.9528 - val_loss: 0.0565 - val_accuracy: 0.9865\n",
      "Epoch 10/20\n",
      "981/981 [==============================] - 75s 76ms/step - loss: 0.1526 - accuracy: 0.9575 - val_loss: 0.0418 - val_accuracy: 0.9876\n",
      "Epoch 11/20\n",
      "981/981 [==============================] - 68s 69ms/step - loss: 0.1657 - accuracy: 0.9551 - val_loss: 0.0425 - val_accuracy: 0.9901\n",
      "Epoch 12/20\n",
      "981/981 [==============================] - 66s 67ms/step - loss: 0.1532 - accuracy: 0.9573 - val_loss: 0.0465 - val_accuracy: 0.9880\n",
      "Epoch 13/20\n",
      "981/981 [==============================] - 68s 69ms/step - loss: 0.1465 - accuracy: 0.9605 - val_loss: 0.0437 - val_accuracy: 0.9890\n",
      "Epoch 14/20\n",
      "981/981 [==============================] - 70s 71ms/step - loss: 0.1411 - accuracy: 0.9626 - val_loss: 0.0424 - val_accuracy: 0.9893\n",
      "Epoch 15/20\n",
      "981/981 [==============================] - 66s 68ms/step - loss: 0.1584 - accuracy: 0.9573 - val_loss: 0.0356 - val_accuracy: 0.9913\n",
      "Epoch 16/20\n",
      "981/981 [==============================] - 63s 65ms/step - loss: 0.1496 - accuracy: 0.9596 - val_loss: 0.0345 - val_accuracy: 0.9915\n",
      "Epoch 17/20\n",
      "981/981 [==============================] - 62s 64ms/step - loss: 0.1362 - accuracy: 0.9656 - val_loss: 0.0520 - val_accuracy: 0.9853\n",
      "Epoch 18/20\n",
      "981/981 [==============================] - 63s 64ms/step - loss: 0.1601 - accuracy: 0.9592 - val_loss: 0.0477 - val_accuracy: 0.9879\n",
      "Epoch 19/20\n",
      "981/981 [==============================] - 63s 64ms/step - loss: 0.1445 - accuracy: 0.9613 - val_loss: 0.0438 - val_accuracy: 0.9888\n",
      "Epoch 20/20\n",
      "981/981 [==============================] - 62s 63ms/step - loss: 0.1385 - accuracy: 0.9639 - val_loss: 0.0514 - val_accuracy: 0.9893\n"
     ]
    }
   ],
   "source": [
    "#Compilation of the model \n",
    "model.compile(loss='categorical_crossentropy', optimizer='adam', metrics=['accuracy']) \n",
    "epochs = 20\n",
    "history = model.fit(X_train, y_train, batch_size=32, epochs=epochs, validation_data=(X_test, y_test))"
   ]
  },
  {
   "cell_type": "code",
   "execution_count": 11,
   "id": "0d7c4ff8",
   "metadata": {},
   "outputs": [
    {
     "data": {
      "image/png": "[encoded data removed]",
      "text/plain": [
       "<Figure size 432x288 with 1 Axes>"
      ]
     },
     "metadata": {
      "needs_background": "light"
     },
     "output_type": "display_data"
    },
    {
     "data": {
      "image/png": "[encoded data removed]",
      "text/plain": [
       "<Figure size 432x288 with 1 Axes>"
      ]
     },
     "metadata": {
      "needs_background": "light"
     },
     "output_type": "display_data"
    }
   ],
   "source": [
    "plt.figure(0)\n",
    "plt.plot(history.history['accuracy'], label='training accuracy')\n",
    "plt.plot(history.history['val_accuracy'], label='val accuracy')\n",
    "plt.title('Accuracy')\n",
    "plt.xlabel('epochs')\n",
    "plt.ylabel('accuracy')\n",
    "plt.legend()\n",
    "plt.show()\n",
    "plt.figure(1)\n",
    "plt.plot(history.history['loss'], label='training loss')\n",
    "plt.plot(history.history['val_loss'], label='val loss')\n",
    "plt.title('Loss')\n",
    "plt.xlabel('epochs')\n",
    "plt.ylabel('loss')\n",
    "plt.legend()\n",
    "plt.show()"
   ]
  },
  {
   "cell_type": "code",
   "execution_count": 12,
   "id": "bad63782",
   "metadata": {},
   "outputs": [],
   "source": [
    "model.save(\"./training/TSR.h5\")"
   ]
  },
  {
   "cell_type": "code",
   "execution_count": 13,
   "id": "c509f711",
   "metadata": {},
   "outputs": [
    {
     "data": {
      "text/html": [
       "<div>\n",
       "<style scoped>\n",
       "    .dataframe tbody tr th:only-of-type {\n",
       "        vertical-align: middle;\n",
       "    }\n",
       "\n",
       "    .dataframe tbody tr th {\n",
       "        vertical-align: top;\n",
       "    }\n",
       "\n",
       "    .dataframe thead th {\n",
       "        text-align: right;\n",
       "    }\n",
       "</style>\n",
       "<table border=\"1\" class=\"dataframe\">\n",
       "  <thead>\n",
       "    <tr style=\"text-align: right;\">\n",
       "      <th></th>\n",
       "      <th>loss</th>\n",
       "      <th>accuracy</th>\n",
       "      <th>val_loss</th>\n",
       "      <th>val_accuracy</th>\n",
       "    </tr>\n",
       "  </thead>\n",
       "  <tbody>\n",
       "    <tr>\n",
       "      <th>0</th>\n",
       "      <td>1.877358</td>\n",
       "      <td>0.513597</td>\n",
       "      <td>0.492176</td>\n",
       "      <td>0.870951</td>\n",
       "    </tr>\n",
       "    <tr>\n",
       "      <th>1</th>\n",
       "      <td>0.636878</td>\n",
       "      <td>0.806580</td>\n",
       "      <td>0.176636</td>\n",
       "      <td>0.953073</td>\n",
       "    </tr>\n",
       "    <tr>\n",
       "      <th>2</th>\n",
       "      <td>0.357205</td>\n",
       "      <td>0.897153</td>\n",
       "      <td>0.097391</td>\n",
       "      <td>0.973604</td>\n",
       "    </tr>\n",
       "    <tr>\n",
       "      <th>3</th>\n",
       "      <td>0.250607</td>\n",
       "      <td>0.927631</td>\n",
       "      <td>0.074315</td>\n",
       "      <td>0.980872</td>\n",
       "    </tr>\n",
       "    <tr>\n",
       "      <th>4</th>\n",
       "      <td>0.222218</td>\n",
       "      <td>0.935505</td>\n",
       "      <td>0.062804</td>\n",
       "      <td>0.984443</td>\n",
       "    </tr>\n",
       "    <tr>\n",
       "      <th>5</th>\n",
       "      <td>0.185785</td>\n",
       "      <td>0.946281</td>\n",
       "      <td>0.079394</td>\n",
       "      <td>0.981000</td>\n",
       "    </tr>\n",
       "    <tr>\n",
       "      <th>6</th>\n",
       "      <td>0.188694</td>\n",
       "      <td>0.946058</td>\n",
       "      <td>0.055662</td>\n",
       "      <td>0.984953</td>\n",
       "    </tr>\n",
       "    <tr>\n",
       "      <th>7</th>\n",
       "      <td>0.181436</td>\n",
       "      <td>0.947524</td>\n",
       "      <td>0.078621</td>\n",
       "      <td>0.978577</td>\n",
       "    </tr>\n",
       "    <tr>\n",
       "      <th>8</th>\n",
       "      <td>0.164175</td>\n",
       "      <td>0.952785</td>\n",
       "      <td>0.056460</td>\n",
       "      <td>0.986483</td>\n",
       "    </tr>\n",
       "    <tr>\n",
       "      <th>9</th>\n",
       "      <td>0.152621</td>\n",
       "      <td>0.957471</td>\n",
       "      <td>0.041751</td>\n",
       "      <td>0.987631</td>\n",
       "    </tr>\n",
       "    <tr>\n",
       "      <th>10</th>\n",
       "      <td>0.165746</td>\n",
       "      <td>0.955080</td>\n",
       "      <td>0.042452</td>\n",
       "      <td>0.990054</td>\n",
       "    </tr>\n",
       "    <tr>\n",
       "      <th>11</th>\n",
       "      <td>0.153233</td>\n",
       "      <td>0.957312</td>\n",
       "      <td>0.046494</td>\n",
       "      <td>0.988013</td>\n",
       "    </tr>\n",
       "    <tr>\n",
       "      <th>12</th>\n",
       "      <td>0.146516</td>\n",
       "      <td>0.960468</td>\n",
       "      <td>0.043714</td>\n",
       "      <td>0.989033</td>\n",
       "    </tr>\n",
       "    <tr>\n",
       "      <th>13</th>\n",
       "      <td>0.141135</td>\n",
       "      <td>0.962572</td>\n",
       "      <td>0.042402</td>\n",
       "      <td>0.989288</td>\n",
       "    </tr>\n",
       "    <tr>\n",
       "      <th>14</th>\n",
       "      <td>0.158367</td>\n",
       "      <td>0.957312</td>\n",
       "      <td>0.035592</td>\n",
       "      <td>0.991329</td>\n",
       "    </tr>\n",
       "    <tr>\n",
       "      <th>15</th>\n",
       "      <td>0.149625</td>\n",
       "      <td>0.959575</td>\n",
       "      <td>0.034542</td>\n",
       "      <td>0.991456</td>\n",
       "    </tr>\n",
       "    <tr>\n",
       "      <th>16</th>\n",
       "      <td>0.136198</td>\n",
       "      <td>0.965633</td>\n",
       "      <td>0.051979</td>\n",
       "      <td>0.985335</td>\n",
       "    </tr>\n",
       "    <tr>\n",
       "      <th>17</th>\n",
       "      <td>0.160061</td>\n",
       "      <td>0.959161</td>\n",
       "      <td>0.047681</td>\n",
       "      <td>0.987886</td>\n",
       "    </tr>\n",
       "    <tr>\n",
       "      <th>18</th>\n",
       "      <td>0.144508</td>\n",
       "      <td>0.961297</td>\n",
       "      <td>0.043768</td>\n",
       "      <td>0.988778</td>\n",
       "    </tr>\n",
       "    <tr>\n",
       "      <th>19</th>\n",
       "      <td>0.138540</td>\n",
       "      <td>0.963943</td>\n",
       "      <td>0.051415</td>\n",
       "      <td>0.989288</td>\n",
       "    </tr>\n",
       "  </tbody>\n",
       "</table>\n",
       "</div>"
      ],
      "text/plain": [
       "        loss  accuracy  val_loss  val_accuracy\n",
       "0   1.877358  0.513597  0.492176      0.870951\n",
       "1   0.636878  0.806580  0.176636      0.953073\n",
       "2   0.357205  0.897153  0.097391      0.973604\n",
       "3   0.250607  0.927631  0.074315      0.980872\n",
       "4   0.222218  0.935505  0.062804      0.984443\n",
       "5   0.185785  0.946281  0.079394      0.981000\n",
       "6   0.188694  0.946058  0.055662      0.984953\n",
       "7   0.181436  0.947524  0.078621      0.978577\n",
       "8   0.164175  0.952785  0.056460      0.986483\n",
       "9   0.152621  0.957471  0.041751      0.987631\n",
       "10  0.165746  0.955080  0.042452      0.990054\n",
       "11  0.153233  0.957312  0.046494      0.988013\n",
       "12  0.146516  0.960468  0.043714      0.989033\n",
       "13  0.141135  0.962572  0.042402      0.989288\n",
       "14  0.158367  0.957312  0.035592      0.991329\n",
       "15  0.149625  0.959575  0.034542      0.991456\n",
       "16  0.136198  0.965633  0.051979      0.985335\n",
       "17  0.160061  0.959161  0.047681      0.987886\n",
       "18  0.144508  0.961297  0.043768      0.988778\n",
       "19  0.138540  0.963943  0.051415      0.989288"
      ]
     },
     "execution_count": 13,
     "metadata": {},
     "output_type": "execute_result"
    }
   ],
   "source": [
    "df = pd.DataFrame(history.history)\n",
    "df"
   ]
  },
  {
   "cell_type": "code",
   "execution_count": 14,
   "id": "1d835951",
   "metadata": {},
   "outputs": [
    {
     "name": "stdout",
     "output_type": "stream",
     "text": [
      "Accuracy: 98.92884492874146 %\n"
     ]
    }
   ],
   "source": [
    "print(f\"Accuracy: {df['val_accuracy'][19]*100} %\")"
   ]
  }
 ],
 "metadata": {
  "kernelspec": {
   "display_name": "Python 3 (ipykernel)",
   "language": "python",
   "name": "python3"
  },
  "language_info": {
   "codemirror_mode": {
    "name": "ipython",
    "version": 3
   },
   "file_extension": ".py",
   "mimetype": "text/x-python",
   "name": "python",
   "nbconvert_exporter": "python",
   "pygments_lexer": "ipython3",
   "version": "3.8.10"
  }
 },
 "nbformat": 4,
 "nbformat_minor": 5
}
