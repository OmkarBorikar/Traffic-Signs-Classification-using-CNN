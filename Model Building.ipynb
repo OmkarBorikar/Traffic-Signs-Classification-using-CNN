{
 "cells": [
  {
   "cell_type": "code",
   "execution_count": 1,
   "id": "8ff7ae86",
   "metadata": {},
   "outputs": [
    {
     "name": "stderr",
     "output_type": "stream",
     "text": [
      "2021-11-27 22:49:55.631484: W tensorflow/stream_executor/platform/default/dso_loader.cc:64] Could not load dynamic library 'libcudart.so.11.0'; dlerror: libcudart.so.11.0: cannot open shared object file: No such file or directory; LD_LIBRARY_PATH: /home/omkar/.local/lib/python3.8/site-packages/cv2/../../lib64:\n",
      "2021-11-27 22:49:55.631517: I tensorflow/stream_executor/cuda/cudart_stub.cc:29] Ignore above cudart dlerror if you do not have a GPU set up on your machine.\n"
     ]
    }
   ],
   "source": [
    "import warnings\n",
    "warnings.filterwarnings(\"ignore\")\n",
    "import numpy as np\n",
    "import pandas as pd\n",
    "import matplotlib.pyplot as plt\n",
    "import cv2\n",
    "import tensorflow as tf\n",
    "from PIL import Image,ImageOps\n",
    "from sklearn.model_selection import train_test_split\n",
    "from tensorflow.keras.utils import to_categorical\n",
    "from keras.models import Sequential, load_model\n",
    "from keras.layers import Conv2D, MaxPool2D, Dense, Flatten, Dropout\n",
    "import os\n",
    "os.chdir('/home/omkar/CNN proj')\n",
    "\n",
    "\n"
   ]
  },
  {
   "cell_type": "code",
   "execution_count": 2,
   "id": "8a6d7464",
   "metadata": {},
   "outputs": [],
   "source": [
    "training_data=[]\n",
    "classes=43\n",
    "cur_path = os.getcwd()\n",
    "for i in range(classes):     \n",
    "    path = os.path.join(cur_path,'train',str(i))     \n",
    "    images = os.listdir(path)\n",
    "    for a in images:\n",
    "        try:\n",
    "            \n",
    "            img_array = cv2.imread(path +'/'+ a,cv2.IMREAD_GRAYSCALE)  # convert to array\n",
    "            new_array = cv2.resize(img_array, (30, 30))\n",
    "            training_data.append([new_array,i])\n",
    "        \n",
    "        except Exception as e:\n",
    "            print(e)"
   ]
  },
  {
   "cell_type": "code",
   "execution_count": 3,
   "id": "2633f35a",
   "metadata": {},
   "outputs": [
    {
     "name": "stdout",
     "output_type": "stream",
     "text": [
      "39209\n"
     ]
    }
   ],
   "source": [
    "print(len(training_data))"
   ]
  },
  {
   "cell_type": "code",
   "execution_count": 4,
   "id": "22b82069",
   "metadata": {},
   "outputs": [],
   "source": [
    "X = []\n",
    "y = []\n",
    "\n",
    "for features,label in training_data:\n",
    "    X.append(features)\n",
    "    y.append(label)\n",
    "\n",
    "\n",
    "X = np.array(X).reshape(-1, 30, 30, 1)\n",
    "y = np.array(y)"
   ]
  },
  {
   "cell_type": "code",
   "execution_count": 5,
   "id": "bba2033e",
   "metadata": {},
   "outputs": [
    {
     "name": "stdout",
     "output_type": "stream",
     "text": [
      "(31367, 30, 30, 1) (7842, 30, 30, 1) (31367,) (7842,)\n"
     ]
    }
   ],
   "source": [
    "X_train, X_test, y_train, y_test =train_test_split(X, y, test_size=0.2, random_state=0, shuffle=True)\n",
    "print(X_train.shape, X_test.shape, y_train.shape, y_test.shape) "
   ]
  },
  {
   "cell_type": "code",
   "execution_count": 6,
   "id": "4199c813",
   "metadata": {},
   "outputs": [],
   "source": [
    "y_train = to_categorical(y_train,43) \n",
    "y_test = to_categorical(y_test,43)"
   ]
  },
  {
   "cell_type": "code",
   "execution_count": 7,
   "id": "5c81cd1a",
   "metadata": {},
   "outputs": [
    {
     "data": {
      "text/plain": [
       "((31367, 43), (7842, 43))"
      ]
     },
     "execution_count": 7,
     "metadata": {},
     "output_type": "execute_result"
    }
   ],
   "source": [
    "y_train.shape,y_test.shape"
   ]
  },
  {
   "cell_type": "code",
   "execution_count": 8,
   "id": "6cda2b80",
   "metadata": {},
   "outputs": [],
   "source": [
    "X = X/255.0"
   ]
  },
  {
   "cell_type": "code",
   "execution_count": 9,
   "id": "8390d2c7",
   "metadata": {},
   "outputs": [
    {
     "name": "stderr",
     "output_type": "stream",
     "text": [
      "2021-11-27 22:51:11.466847: E tensorflow/stream_executor/cuda/cuda_driver.cc:271] failed call to cuInit: CUDA_ERROR_NO_DEVICE: no CUDA-capable device is detected\n",
      "2021-11-27 22:51:11.466897: I tensorflow/stream_executor/cuda/cuda_diagnostics.cc:156] kernel driver does not appear to be running on this host (omkar-Lenovo-ideapad-520-15IKB): /proc/driver/nvidia/version does not exist\n",
      "2021-11-27 22:51:11.467639: I tensorflow/core/platform/cpu_feature_guard.cc:142] This TensorFlow binary is optimized with oneAPI Deep Neural Network Library (oneDNN) to use the following CPU instructions in performance-critical operations:  AVX2 FMA\n",
      "To enable them in other operations, rebuild TensorFlow with the appropriate compiler flags.\n"
     ]
    }
   ],
   "source": [
    "model =Sequential() \n",
    "model.add(Conv2D(filters=32, kernel_size=(5,5), activation='relu', input_shape=X_train.shape[1:])) \n",
    "model.add(Conv2D(filters=32, kernel_size=(5,5), activation='relu')) \n",
    "model.add(MaxPool2D(pool_size=(2,2))) \n",
    "model.add(Dropout(rate=0.25)) \n",
    "\n",
    "model.add(Conv2D(filters=64, kernel_size=(3,3), activation='relu')) \n",
    "model.add(Conv2D(filters=64, kernel_size=(3,3), activation='relu')) \n",
    "model.add(MaxPool2D(pool_size=(2,2)))\n",
    "model.add(Dropout(rate=0.25)) \n",
    "\n",
    "model.add(Flatten()) \n",
    "\n",
    "model.add(Dense(256, activation='relu')) \n",
    "model.add(Dropout(rate=0.5))\n",
    "\n",
    "# We have 43 classes that's why we have defined 43in the dense \n",
    "model.add(Dense(43, activation='softmax'))"
   ]
  },
  {
   "cell_type": "code",
   "execution_count": null,
   "id": "43db9108",
   "metadata": {},
   "outputs": [
    {
     "name": "stderr",
     "output_type": "stream",
     "text": [
      "2021-11-27 22:51:11.839173: W tensorflow/core/framework/cpu_allocator_impl.cc:80] Allocation of 28230300 exceeds 10% of free system memory.\n",
      "2021-11-27 22:51:12.638859: I tensorflow/compiler/mlir/mlir_graph_optimization_pass.cc:185] None of the MLIR Optimization Passes are enabled (registered 2)\n"
     ]
    },
    {
     "name": "stdout",
     "output_type": "stream",
     "text": [
      "Epoch 1/20\n"
     ]
    },
    {
     "name": "stderr",
     "output_type": "stream",
     "text": [
      "2021-11-27 22:51:15.148395: W tensorflow/core/framework/cpu_allocator_impl.cc:80] Allocation of 29427200 exceeds 10% of free system memory.\n",
      "2021-11-27 22:51:15.149030: W tensorflow/core/framework/cpu_allocator_impl.cc:80] Allocation of 29427200 exceeds 10% of free system memory.\n"
     ]
    },
    {
     "name": "stdout",
     "output_type": "stream",
     "text": [
      "  2/981 [..............................] - ETA: 55s - loss: 21.8832 - accuracy: 0.0156  "
     ]
    },
    {
     "name": "stderr",
     "output_type": "stream",
     "text": [
      "2021-11-27 22:51:15.577746: W tensorflow/core/framework/cpu_allocator_impl.cc:80] Allocation of 29427200 exceeds 10% of free system memory.\n",
      "2021-11-27 22:51:15.580001: W tensorflow/core/framework/cpu_allocator_impl.cc:80] Allocation of 29427200 exceeds 10% of free system memory.\n"
     ]
    },
    {
     "name": "stdout",
     "output_type": "stream",
     "text": [
      "981/981 [==============================] - 78s 76ms/step - loss: 1.4736 - accuracy: 0.6232 - val_loss: 0.2423 - val_accuracy: 0.9426\n",
      "Epoch 2/20\n",
      "981/981 [==============================] - 63s 64ms/step - loss: 0.3500 - accuracy: 0.9018 - val_loss: 0.1890 - val_accuracy: 0.9543\n",
      "Epoch 3/20\n",
      "981/981 [==============================] - 69s 70ms/step - loss: 0.2436 - accuracy: 0.9320 - val_loss: 0.0752 - val_accuracy: 0.9797\n",
      "Epoch 4/20\n",
      "981/981 [==============================] - 71s 72ms/step - loss: 0.1901 - accuracy: 0.9467 - val_loss: 0.0533 - val_accuracy: 0.9858\n",
      "Epoch 5/20\n",
      "981/981 [==============================] - 70s 71ms/step - loss: 0.1891 - accuracy: 0.9481 - val_loss: 0.0680 - val_accuracy: 0.9848\n",
      "Epoch 6/20\n",
      "981/981 [==============================] - 69s 70ms/step - loss: 0.1696 - accuracy: 0.9523 - val_loss: 0.0348 - val_accuracy: 0.9911\n",
      "Epoch 7/20\n",
      "981/981 [==============================] - 61s 62ms/step - loss: 0.1517 - accuracy: 0.9583 - val_loss: 0.0452 - val_accuracy: 0.9876\n",
      "Epoch 8/20\n",
      "981/981 [==============================] - 59s 60ms/step - loss: 0.1434 - accuracy: 0.9616 - val_loss: 0.0407 - val_accuracy: 0.9907\n",
      "Epoch 9/20\n",
      "981/981 [==============================] - 59s 60ms/step - loss: 0.1716 - accuracy: 0.9550 - val_loss: 0.0691 - val_accuracy: 0.9818\n",
      "Epoch 10/20\n",
      "981/981 [==============================] - 59s 61ms/step - loss: 0.1481 - accuracy: 0.9597 - val_loss: 0.0420 - val_accuracy: 0.9893\n",
      "Epoch 11/20\n",
      "981/981 [==============================] - 63s 64ms/step - loss: 0.1623 - accuracy: 0.9593 - val_loss: 0.0438 - val_accuracy: 0.9884\n",
      "Epoch 12/20\n",
      "981/981 [==============================] - 70s 71ms/step - loss: 0.1517 - accuracy: 0.9623 - val_loss: 0.0340 - val_accuracy: 0.9925\n",
      "Epoch 13/20\n",
      "981/981 [==============================] - 69s 71ms/step - loss: 0.1477 - accuracy: 0.9632 - val_loss: 0.0343 - val_accuracy: 0.9899\n",
      "Epoch 14/20\n",
      "981/981 [==============================] - 69s 70ms/step - loss: 0.1601 - accuracy: 0.9606 - val_loss: 0.0394 - val_accuracy: 0.9903\n",
      "Epoch 15/20\n",
      "981/981 [==============================] - 72s 74ms/step - loss: 0.1661 - accuracy: 0.9605 - val_loss: 0.0604 - val_accuracy: 0.9836\n",
      "Epoch 16/20\n",
      "981/981 [==============================] - 62s 63ms/step - loss: 0.1620 - accuracy: 0.9621 - val_loss: 0.0352 - val_accuracy: 0.9922\n",
      "Epoch 17/20\n",
      "981/981 [==============================] - 58s 59ms/step - loss: 0.1517 - accuracy: 0.9642 - val_loss: 0.0527 - val_accuracy: 0.9857\n",
      "Epoch 18/20\n",
      "981/981 [==============================] - 62s 64ms/step - loss: 0.1465 - accuracy: 0.9645 - val_loss: 0.0283 - val_accuracy: 0.9925\n",
      "Epoch 19/20\n",
      "981/981 [==============================] - 62s 64ms/step - loss: 0.1559 - accuracy: 0.9647 - val_loss: 0.0599 - val_accuracy: 0.9844\n",
      "Epoch 20/20\n",
      "890/981 [==========================>...] - ETA: 5s - loss: 0.1429 - accuracy: 0.9677"
     ]
    }
   ],
   "source": [
    "#Compilation of the model \n",
    "model.compile(loss='categorical_crossentropy', optimizer='adam', metrics=['accuracy']) \n",
    "epochs = 20\n",
    "history = model.fit(X_train, y_train, batch_size=32, epochs=epochs, validation_data=(X_test, y_test))"
   ]
  },
  {
   "cell_type": "code",
   "execution_count": null,
   "id": "0d7c4ff8",
   "metadata": {},
   "outputs": [],
   "source": [
    "plt.figure(0)\n",
    "plt.plot(history.history['accuracy'], label='training accuracy')\n",
    "plt.plot(history.history['val_accuracy'], label='val accuracy')\n",
    "plt.title('Accuracy')\n",
    "plt.xlabel('epochs')\n",
    "plt.ylabel('accuracy')\n",
    "plt.legend()\n",
    "plt.show()\n",
    "plt.figure(1)\n",
    "plt.plot(history.history['loss'], label='training loss')\n",
    "plt.plot(history.history['val_loss'], label='val loss')\n",
    "plt.title('Loss')\n",
    "plt.xlabel('epochs')\n",
    "plt.ylabel('loss')\n",
    "plt.legend()\n",
    "plt.show()"
   ]
  },
  {
   "cell_type": "code",
   "execution_count": null,
   "id": "bad63782",
   "metadata": {},
   "outputs": [],
   "source": [
    "model.save(\"./TSR.h5\")"
   ]
  },
  {
   "cell_type": "code",
   "execution_count": null,
   "id": "c509f711",
   "metadata": {},
   "outputs": [],
   "source": [
    "df = pd.DataFrame(history.history)\n",
    "df"
   ]
  },
  {
   "cell_type": "code",
   "execution_count": null,
   "id": "1d835951",
   "metadata": {},
   "outputs": [],
   "source": [
    "print(f\"Accuracy: {df['val_accuracy'][19]*100} %\")"
   ]
  }
 ],
 "metadata": {
  "kernelspec": {
   "display_name": "Python 3 (ipykernel)",
   "language": "python",
   "name": "python3"
  },
  "language_info": {
   "codemirror_mode": {
    "name": "ipython",
    "version": 3
   },
   "file_extension": ".py",
   "mimetype": "text/x-python",
   "name": "python",
   "nbconvert_exporter": "python",
   "pygments_lexer": "ipython3",
   "version": "3.8.10"
  }
 },
 "nbformat": 4,
 "nbformat_minor": 5
}
